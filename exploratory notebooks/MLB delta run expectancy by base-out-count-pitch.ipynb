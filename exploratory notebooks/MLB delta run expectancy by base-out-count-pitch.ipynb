{
 "cells": [
  {
   "cell_type": "markdown",
   "metadata": {},
   "source": [
    "# Missed Call Exploration for MLB Hitters 2023"
   ]
  },
  {
   "cell_type": "markdown",
   "metadata": {},
   "source": [
    "## Finding Change in Run Expectancy for each Base-Out-Count-Pitch"
   ]
  },
  {
   "cell_type": "code",
   "execution_count": 1,
   "metadata": {},
   "outputs": [],
   "source": [
    "import pandas as pd\n",
    "import numpy as np"
   ]
  },
  {
   "cell_type": "code",
   "execution_count": 2,
   "metadata": {},
   "outputs": [
    {
     "name": "stdout",
     "output_type": "stream",
     "text": [
      "Requirement already satisfied: pip in /Users/johnnahra/opt/anaconda3/envs/learn-env/lib/python3.8/site-packages (23.2.1)\n",
      "Requirement already satisfied: setuptools in /Users/johnnahra/opt/anaconda3/envs/learn-env/lib/python3.8/site-packages (68.1.0)\n",
      "Requirement already satisfied: wheel in /Users/johnnahra/opt/anaconda3/envs/learn-env/lib/python3.8/site-packages (0.41.1)\n",
      "Note: you may need to restart the kernel to use updated packages.\n"
     ]
    }
   ],
   "source": [
    "pip install --upgrade pip setuptools wheel"
   ]
  },
  {
   "cell_type": "code",
   "execution_count": 3,
   "metadata": {},
   "outputs": [
    {
     "name": "stdout",
     "output_type": "stream",
     "text": [
      "Requirement already satisfied: pynacl in /Users/johnnahra/opt/anaconda3/envs/learn-env/lib/python3.8/site-packages (1.5.0)\r\n",
      "Requirement already satisfied: cffi>=1.4.1 in /Users/johnnahra/opt/anaconda3/envs/learn-env/lib/python3.8/site-packages (from pynacl) (1.14.3)\r\n",
      "Requirement already satisfied: pycparser in /Users/johnnahra/opt/anaconda3/envs/learn-env/lib/python3.8/site-packages (from cffi>=1.4.1->pynacl) (2.20)\r\n"
     ]
    }
   ],
   "source": [
    "!pip install pynacl"
   ]
  },
  {
   "cell_type": "code",
   "execution_count": 4,
   "metadata": {},
   "outputs": [
    {
     "name": "stdout",
     "output_type": "stream",
     "text": [
      "Requirement already satisfied: pybaseball in /Users/johnnahra/opt/anaconda3/envs/learn-env/lib/python3.8/site-packages (2.2.5)\n",
      "Requirement already satisfied: numpy>=1.13.0 in /Users/johnnahra/opt/anaconda3/envs/learn-env/lib/python3.8/site-packages (from pybaseball) (1.18.5)\n",
      "Requirement already satisfied: pandas>=1.0.3 in /Users/johnnahra/opt/anaconda3/envs/learn-env/lib/python3.8/site-packages (from pybaseball) (1.1.3)\n",
      "Requirement already satisfied: beautifulsoup4>=4.4.0 in /Users/johnnahra/opt/anaconda3/envs/learn-env/lib/python3.8/site-packages (from pybaseball) (4.9.3)\n",
      "Requirement already satisfied: requests>=2.18.1 in /Users/johnnahra/opt/anaconda3/envs/learn-env/lib/python3.8/site-packages (from pybaseball) (2.24.0)\n",
      "Requirement already satisfied: lxml>=4.2.1 in /Users/johnnahra/opt/anaconda3/envs/learn-env/lib/python3.8/site-packages (from pybaseball) (4.5.2)\n",
      "Requirement already satisfied: pyarrow>=1.0.1 in /Users/johnnahra/opt/anaconda3/envs/learn-env/lib/python3.8/site-packages (from pybaseball) (1.0.1)\n",
      "Requirement already satisfied: pygithub>=1.51 in /Users/johnnahra/opt/anaconda3/envs/learn-env/lib/python3.8/site-packages (from pybaseball) (1.59.1)\n",
      "Requirement already satisfied: scipy>=1.4.0 in /Users/johnnahra/opt/anaconda3/envs/learn-env/lib/python3.8/site-packages (from pybaseball) (1.5.2)\n",
      "Requirement already satisfied: matplotlib>=2.0.0 in /Users/johnnahra/opt/anaconda3/envs/learn-env/lib/python3.8/site-packages (from pybaseball) (3.3.1)\n",
      "Requirement already satisfied: tqdm>=4.50.0 in /Users/johnnahra/opt/anaconda3/envs/learn-env/lib/python3.8/site-packages (from pybaseball) (4.50.2)\n",
      "Requirement already satisfied: attrs>=20.3.0 in /Users/johnnahra/opt/anaconda3/envs/learn-env/lib/python3.8/site-packages (from pybaseball) (23.1.0)\n",
      "Requirement already satisfied: soupsieve>1.2 in /Users/johnnahra/opt/anaconda3/envs/learn-env/lib/python3.8/site-packages (from beautifulsoup4>=4.4.0->pybaseball) (2.0.1)\n",
      "Requirement already satisfied: certifi>=2020.06.20 in /Users/johnnahra/opt/anaconda3/envs/learn-env/lib/python3.8/site-packages (from matplotlib>=2.0.0->pybaseball) (2022.12.7)\n",
      "Requirement already satisfied: cycler>=0.10 in /Users/johnnahra/opt/anaconda3/envs/learn-env/lib/python3.8/site-packages (from matplotlib>=2.0.0->pybaseball) (0.10.0)\n",
      "Requirement already satisfied: kiwisolver>=1.0.1 in /Users/johnnahra/opt/anaconda3/envs/learn-env/lib/python3.8/site-packages (from matplotlib>=2.0.0->pybaseball) (1.2.0)\n",
      "Requirement already satisfied: pillow>=6.2.0 in /Users/johnnahra/opt/anaconda3/envs/learn-env/lib/python3.8/site-packages (from matplotlib>=2.0.0->pybaseball) (7.2.0)\n",
      "Requirement already satisfied: pyparsing!=2.0.4,!=2.1.2,!=2.1.6,>=2.0.3 in /Users/johnnahra/opt/anaconda3/envs/learn-env/lib/python3.8/site-packages (from matplotlib>=2.0.0->pybaseball) (2.4.7)\n",
      "Requirement already satisfied: python-dateutil>=2.1 in /Users/johnnahra/opt/anaconda3/envs/learn-env/lib/python3.8/site-packages (from matplotlib>=2.0.0->pybaseball) (2.8.1)\n",
      "Requirement already satisfied: pytz>=2017.2 in /Users/johnnahra/opt/anaconda3/envs/learn-env/lib/python3.8/site-packages (from pandas>=1.0.3->pybaseball) (2020.1)\n",
      "Requirement already satisfied: deprecated in /Users/johnnahra/opt/anaconda3/envs/learn-env/lib/python3.8/site-packages (from pygithub>=1.51->pybaseball) (1.2.14)\n",
      "Requirement already satisfied: pyjwt[crypto]>=2.4.0 in /Users/johnnahra/opt/anaconda3/envs/learn-env/lib/python3.8/site-packages (from pygithub>=1.51->pybaseball) (2.8.0)\n",
      "Requirement already satisfied: pynacl>=1.4.0 in /Users/johnnahra/opt/anaconda3/envs/learn-env/lib/python3.8/site-packages (from pygithub>=1.51->pybaseball) (1.5.0)\n",
      "Requirement already satisfied: chardet<4,>=3.0.2 in /Users/johnnahra/opt/anaconda3/envs/learn-env/lib/python3.8/site-packages (from requests>=2.18.1->pybaseball) (3.0.4)\n",
      "Requirement already satisfied: idna<3,>=2.5 in /Users/johnnahra/opt/anaconda3/envs/learn-env/lib/python3.8/site-packages (from requests>=2.18.1->pybaseball) (2.10)\n",
      "Requirement already satisfied: urllib3!=1.25.0,!=1.25.1,<1.26,>=1.21.1 in /Users/johnnahra/opt/anaconda3/envs/learn-env/lib/python3.8/site-packages (from requests>=2.18.1->pybaseball) (1.25.11)\n",
      "Requirement already satisfied: six in /Users/johnnahra/opt/anaconda3/envs/learn-env/lib/python3.8/site-packages (from cycler>=0.10->matplotlib>=2.0.0->pybaseball) (1.15.0)\n",
      "Requirement already satisfied: cryptography>=3.4.0 in /Users/johnnahra/opt/anaconda3/envs/learn-env/lib/python3.8/site-packages (from pyjwt[crypto]>=2.4.0->pygithub>=1.51->pybaseball) (41.0.3)\n",
      "Requirement already satisfied: cffi>=1.4.1 in /Users/johnnahra/opt/anaconda3/envs/learn-env/lib/python3.8/site-packages (from pynacl>=1.4.0->pygithub>=1.51->pybaseball) (1.14.3)\n",
      "Requirement already satisfied: wrapt<2,>=1.10 in /Users/johnnahra/opt/anaconda3/envs/learn-env/lib/python3.8/site-packages (from deprecated->pygithub>=1.51->pybaseball) (1.12.1)\n",
      "Requirement already satisfied: pycparser in /Users/johnnahra/opt/anaconda3/envs/learn-env/lib/python3.8/site-packages (from cffi>=1.4.1->pynacl>=1.4.0->pygithub>=1.51->pybaseball) (2.20)\n"
     ]
    }
   ],
   "source": [
    "!pip install pybaseball"
   ]
  },
  {
   "cell_type": "code",
   "execution_count": 5,
   "metadata": {},
   "outputs": [],
   "source": [
    "from pybaseball import statcast\n",
    "from pybaseball import statcast_batter"
   ]
  },
  {
   "cell_type": "code",
   "execution_count": 6,
   "metadata": {},
   "outputs": [],
   "source": [
    "from pybaseball import cache\n",
    "\n",
    "cache.enable()"
   ]
  },
  {
   "cell_type": "code",
   "execution_count": 7,
   "metadata": {},
   "outputs": [],
   "source": [
    "df_ids = pd.read_csv('player_ids.csv')"
   ]
  },
  {
   "cell_type": "code",
   "execution_count": 8,
   "metadata": {},
   "outputs": [
    {
     "name": "stdout",
     "output_type": "stream",
     "text": [
      "<class 'pandas.core.frame.DataFrame'>\n",
      "RangeIndex: 3138 entries, 0 to 3137\n",
      "Data columns (total 44 columns):\n",
      " #   Column          Non-Null Count  Dtype  \n",
      "---  ------          --------------  -----  \n",
      " 0   IDPLAYER        3138 non-null   object \n",
      " 1   PLAYERNAME      3138 non-null   object \n",
      " 2   BIRTHDATE       3138 non-null   object \n",
      " 3   FIRSTNAME       3138 non-null   object \n",
      " 4   LASTNAME        3138 non-null   object \n",
      " 5   TEAM            2077 non-null   object \n",
      " 6   LG              2076 non-null   object \n",
      " 7   POS             3138 non-null   object \n",
      " 8   IDFANGRAPHS     3137 non-null   object \n",
      " 9   FANGRAPHSNAME   3138 non-null   object \n",
      " 10  MLBID           3137 non-null   float64\n",
      " 11  MLBNAME         3137 non-null   object \n",
      " 12  CBSID           3095 non-null   float64\n",
      " 13  CBSNAME         3138 non-null   object \n",
      " 14  RETROID         2228 non-null   object \n",
      " 15  BREFID          3136 non-null   object \n",
      " 16  NFBCID          2323 non-null   float64\n",
      " 17  NFBCNAME        3134 non-null   object \n",
      " 18  ESPNID          3085 non-null   float64\n",
      " 19  ESPNNAME        3138 non-null   object \n",
      " 20  KFFLNAME        418 non-null    object \n",
      " 21  DAVENPORTID     3003 non-null   object \n",
      " 22  BPID            3071 non-null   float64\n",
      " 23  YAHOOID         3017 non-null   float64\n",
      " 24  YAHOONAME       3095 non-null   object \n",
      " 25  MSTRBLLNAME     2967 non-null   object \n",
      " 26  BATS            3137 non-null   object \n",
      " 27  THROWS          3137 non-null   object \n",
      " 28  FANTPROSNAME    3138 non-null   object \n",
      " 29  LASTCOMMAFIRST  3138 non-null   object \n",
      " 30  ROTOWIREID      2779 non-null   float64\n",
      " 31  FANDUELNAME     1471 non-null   object \n",
      " 32  FANDUELID       1213 non-null   float64\n",
      " 33  DRAFTKINGSNAME  1850 non-null   object \n",
      " 34  OTTONEUID       2774 non-null   float64\n",
      " 35  HQID            2378 non-null   float64\n",
      " 36  RAZZBALLNAME    3137 non-null   object \n",
      " 37  FANTRAXID       2727 non-null   object \n",
      " 38  FANTRAXNAME     3137 non-null   object \n",
      " 39  ROTOWIRENAME    3138 non-null   object \n",
      " 40  ALLPOS          3138 non-null   object \n",
      " 41  NFBCLASTFIRST   3135 non-null   object \n",
      " 42  ACTIVE          3138 non-null   object \n",
      " 43  UNDERDOG        1647 non-null   object \n",
      "dtypes: float64(10), object(34)\n",
      "memory usage: 1.1+ MB\n"
     ]
    }
   ],
   "source": [
    "df_ids.info()"
   ]
  },
  {
   "cell_type": "code",
   "execution_count": 9,
   "metadata": {},
   "outputs": [],
   "source": [
    "df_ids = df_ids[['MLBID','MLBNAME']]"
   ]
  },
  {
   "cell_type": "code",
   "execution_count": 10,
   "metadata": {},
   "outputs": [],
   "source": [
    "df_ids = df_ids.dropna()"
   ]
  },
  {
   "cell_type": "code",
   "execution_count": 11,
   "metadata": {},
   "outputs": [],
   "source": [
    "df_ids['MLBID'] = df_ids['MLBID'].astype(int)"
   ]
  },
  {
   "cell_type": "code",
   "execution_count": 12,
   "metadata": {
    "scrolled": true
   },
   "outputs": [
    {
     "name": "stdout",
     "output_type": "stream",
     "text": [
      "This is a large query, it may take a moment to complete\n"
     ]
    },
    {
     "name": "stderr",
     "output_type": "stream",
     "text": [
      "100%|██████████| 138/138 [00:06<00:00, 22.01it/s]\n"
     ]
    }
   ],
   "source": [
    "df = statcast(start_dt=\"2023-03-30\", end_dt=\"2023-08-14\",verbose=True)"
   ]
  },
  {
   "cell_type": "code",
   "execution_count": 13,
   "metadata": {
    "scrolled": true
   },
   "outputs": [
    {
     "name": "stdout",
     "output_type": "stream",
     "text": [
      "<class 'pandas.core.frame.DataFrame'>\n",
      "Int64Index: 526003 entries, 1953 to 4406\n",
      "Data columns (total 92 columns):\n",
      " #   Column                           Non-Null Count   Dtype         \n",
      "---  ------                           --------------   -----         \n",
      " 0   pitch_type                       525706 non-null  object        \n",
      " 1   game_date                        526003 non-null  datetime64[ns]\n",
      " 2   release_speed                    525684 non-null  float64       \n",
      " 3   release_pos_x                    525704 non-null  float64       \n",
      " 4   release_pos_z                    525704 non-null  float64       \n",
      " 5   player_name                      526003 non-null  object        \n",
      " 6   batter                           526003 non-null  Int64         \n",
      " 7   pitcher                          526003 non-null  Int64         \n",
      " 8   events                           134829 non-null  object        \n",
      " 9   description                      526003 non-null  object        \n",
      " 10  spin_dir                         0 non-null       Int64         \n",
      " 11  spin_rate_deprecated             0 non-null       Int64         \n",
      " 12  break_angle_deprecated           0 non-null       Int64         \n",
      " 13  break_length_deprecated          0 non-null       Int64         \n",
      " 14  zone                             525704 non-null  Int64         \n",
      " 15  des                              526003 non-null  object        \n",
      " 16  game_type                        526003 non-null  object        \n",
      " 17  stand                            526003 non-null  object        \n",
      " 18  p_throws                         526003 non-null  object        \n",
      " 19  home_team                        526003 non-null  object        \n",
      " 20  away_team                        526003 non-null  object        \n",
      " 21  type                             526003 non-null  object        \n",
      " 22  hit_location                     117508 non-null  Int64         \n",
      " 23  bb_type                          91183 non-null   object        \n",
      " 24  balls                            526003 non-null  Int64         \n",
      " 25  strikes                          526003 non-null  Int64         \n",
      " 26  game_year                        526003 non-null  Int64         \n",
      " 27  pfx_x                            525704 non-null  float64       \n",
      " 28  pfx_z                            525704 non-null  float64       \n",
      " 29  plate_x                          525704 non-null  float64       \n",
      " 30  plate_z                          525704 non-null  float64       \n",
      " 31  on_3b                            50369 non-null   Int64         \n",
      " 32  on_2b                            100494 non-null  Int64         \n",
      " 33  on_1b                            161635 non-null  Int64         \n",
      " 34  outs_when_up                     526003 non-null  Int64         \n",
      " 35  inning                           526003 non-null  Int64         \n",
      " 36  inning_topbot                    526003 non-null  object        \n",
      " 37  hc_x                             91142 non-null   float64       \n",
      " 38  hc_y                             91142 non-null   float64       \n",
      " 39  tfs_deprecated                   0 non-null       Int64         \n",
      " 40  tfs_zulu_deprecated              0 non-null       Int64         \n",
      " 41  fielder_2                        526003 non-null  Int64         \n",
      " 42  umpire                           0 non-null       Int64         \n",
      " 43  sv_id                            0 non-null       Int64         \n",
      " 44  vx0                              525704 non-null  float64       \n",
      " 45  vy0                              525704 non-null  float64       \n",
      " 46  vz0                              525704 non-null  float64       \n",
      " 47  ax                               525704 non-null  float64       \n",
      " 48  ay                               525704 non-null  float64       \n",
      " 49  az                               525704 non-null  float64       \n",
      " 50  sz_top                           525704 non-null  float64       \n",
      " 51  sz_bot                           525704 non-null  float64       \n",
      " 52  hit_distance_sc                  174184 non-null  Int64         \n",
      " 53  launch_speed                     173273 non-null  float64       \n",
      " 54  launch_angle                     173518 non-null  Int64         \n",
      " 55  effective_speed                  525652 non-null  float64       \n",
      " 56  release_spin_rate                522973 non-null  Int64         \n",
      " 57  release_extension                524662 non-null  float64       \n",
      " 58  game_pk                          526003 non-null  Int64         \n",
      " 59  pitcher.1                        526003 non-null  Int64         \n",
      " 60  fielder_2.1                      526003 non-null  Int64         \n",
      " 61  fielder_3                        526003 non-null  Int64         \n",
      " 62  fielder_4                        526003 non-null  Int64         \n",
      " 63  fielder_5                        526003 non-null  Int64         \n",
      " 64  fielder_6                        526003 non-null  Int64         \n",
      " 65  fielder_7                        526003 non-null  Int64         \n",
      " 66  fielder_8                        526003 non-null  Int64         \n",
      " 67  fielder_9                        526003 non-null  Int64         \n",
      " 68  release_pos_y                    525704 non-null  float64       \n",
      " 69  estimated_ba_using_speedangle    90886 non-null   float64       \n",
      " 70  estimated_woba_using_speedangle  90886 non-null   float64       \n",
      " 71  woba_value                       134829 non-null  float64       \n",
      " 72  woba_denom                       134532 non-null  Int64         \n",
      " 73  babip_value                      134829 non-null  Int64         \n",
      " 74  iso_value                        134829 non-null  Int64         \n",
      " 75  launch_speed_angle               90886 non-null   Int64         \n",
      " 76  at_bat_number                    526003 non-null  Int64         \n",
      " 77  pitch_number                     526003 non-null  Int64         \n",
      " 78  pitch_name                       525706 non-null  object        \n",
      " 79  home_score                       526003 non-null  Int64         \n",
      " 80  away_score                       526003 non-null  Int64         \n",
      " 81  bat_score                        526003 non-null  Int64         \n",
      " 82  fld_score                        526003 non-null  Int64         \n",
      " 83  post_away_score                  526003 non-null  Int64         \n",
      " 84  post_home_score                  526003 non-null  Int64         \n",
      " 85  post_bat_score                   526003 non-null  Int64         \n",
      " 86  post_fld_score                   526003 non-null  Int64         \n",
      " 87  if_fielding_alignment            523815 non-null  object        \n",
      " 88  of_fielding_alignment            523815 non-null  object        \n",
      " 89  spin_axis                        522994 non-null  Int64         \n",
      " 90  delta_home_win_exp               526003 non-null  float64       \n",
      " 91  delta_run_exp                    525969 non-null  float64       \n",
      "dtypes: Int64(49), datetime64[ns](1), float64(26), object(16)\n",
      "memory usage: 397.8+ MB\n"
     ]
    }
   ],
   "source": [
    "df.info()"
   ]
  },
  {
   "cell_type": "code",
   "execution_count": 14,
   "metadata": {},
   "outputs": [],
   "source": [
    "df = df.merge(df_ids,left_on='batter',right_on='MLBID')"
   ]
  },
  {
   "cell_type": "code",
   "execution_count": 15,
   "metadata": {
    "scrolled": true
   },
   "outputs": [],
   "source": [
    "df = df.drop('player_name',axis=1)"
   ]
  },
  {
   "cell_type": "code",
   "execution_count": 16,
   "metadata": {},
   "outputs": [],
   "source": [
    "df = df.rename(columns={'MLBNAME':'player_name'})"
   ]
  },
  {
   "cell_type": "code",
   "execution_count": 17,
   "metadata": {},
   "outputs": [],
   "source": [
    "df = df.loc[(df['description'] == 'called_strike') | (df['description'] == 'ball')]"
   ]
  },
  {
   "cell_type": "code",
   "execution_count": 18,
   "metadata": {},
   "outputs": [],
   "source": [
    "df = df[df['delta_run_exp'].notna()]"
   ]
  },
  {
   "cell_type": "code",
   "execution_count": 19,
   "metadata": {},
   "outputs": [],
   "source": [
    "df = df[df['zone'].notna()]"
   ]
  },
  {
   "cell_type": "code",
   "execution_count": 20,
   "metadata": {},
   "outputs": [],
   "source": [
    "def batter_team(df):\n",
    "    if df['inning_topbot'] == 'Top':\n",
    "        return df['away_team']\n",
    "    else:\n",
    "        return df['home_team']"
   ]
  },
  {
   "cell_type": "code",
   "execution_count": 21,
   "metadata": {},
   "outputs": [],
   "source": [
    "df['batter_team'] = df.apply(batter_team,axis=1)"
   ]
  },
  {
   "cell_type": "code",
   "execution_count": 22,
   "metadata": {},
   "outputs": [],
   "source": [
    "df['player_name'] = df['player_name'] + '-' + df['batter_team']"
   ]
  },
  {
   "cell_type": "code",
   "execution_count": 23,
   "metadata": {
    "scrolled": true
   },
   "outputs": [
    {
     "data": {
      "text/plain": [
       "walk                          10334\n",
       "strikeout                      6945\n",
       "caught_stealing_2b              133\n",
       "strikeout_double_play            17\n",
       "pickoff_1b                        7\n",
       "caught_stealing_home              6\n",
       "wild_pitch                        5\n",
       "pickoff_caught_stealing_2b        5\n",
       "caught_stealing_3b                4\n",
       "other_out                         3\n",
       "pickoff_3b                        2\n",
       "catcher_interf                    1\n",
       "Name: events, dtype: int64"
      ]
     },
     "execution_count": 23,
     "metadata": {},
     "output_type": "execute_result"
    }
   ],
   "source": [
    "df['events'].value_counts()"
   ]
  },
  {
   "cell_type": "code",
   "execution_count": 24,
   "metadata": {},
   "outputs": [],
   "source": [
    "df = df.loc[(df['events']=='walk') | (df['events']=='strikeout') | (df['events'].isna())]"
   ]
  },
  {
   "cell_type": "code",
   "execution_count": 25,
   "metadata": {
    "scrolled": false
   },
   "outputs": [
    {
     "data": {
      "text/plain": [
       "ball             175058\n",
       "called_strike     86086\n",
       "Name: description, dtype: int64"
      ]
     },
     "execution_count": 25,
     "metadata": {},
     "output_type": "execute_result"
    }
   ],
   "source": [
    "df['description'].value_counts()"
   ]
  },
  {
   "cell_type": "code",
   "execution_count": 26,
   "metadata": {
    "scrolled": true
   },
   "outputs": [],
   "source": [
    "df['count'] = df['balls'].astype(str) + '-' + df['strikes'].astype(str)"
   ]
  },
  {
   "cell_type": "code",
   "execution_count": 27,
   "metadata": {},
   "outputs": [],
   "source": [
    "df['on_base'] = np.where(df['on_1b'].notna(),'1','_')"
   ]
  },
  {
   "cell_type": "code",
   "execution_count": 28,
   "metadata": {},
   "outputs": [],
   "source": [
    "df['on_base'] = df['on_base'] + '-' + np.where(df['on_2b'].notna(),'2','_')"
   ]
  },
  {
   "cell_type": "code",
   "execution_count": 29,
   "metadata": {},
   "outputs": [],
   "source": [
    "df['on_base'] = df['on_base'] + '-' + np.where(df['on_3b'].notna(),'3','_')"
   ]
  },
  {
   "cell_type": "code",
   "execution_count": 30,
   "metadata": {},
   "outputs": [],
   "source": [
    "df_all_calls = df.groupby(by=['player_name','description'])['pitch_type'].count().reset_index().pivot_table('pitch_type',['player_name'],'description').reset_index()"
   ]
  },
  {
   "cell_type": "code",
   "execution_count": 31,
   "metadata": {},
   "outputs": [
    {
     "data": {
      "text/html": [
       "<div>\n",
       "<style scoped>\n",
       "    .dataframe tbody tr th:only-of-type {\n",
       "        vertical-align: middle;\n",
       "    }\n",
       "\n",
       "    .dataframe tbody tr th {\n",
       "        vertical-align: top;\n",
       "    }\n",
       "\n",
       "    .dataframe thead th {\n",
       "        text-align: right;\n",
       "    }\n",
       "</style>\n",
       "<table border=\"1\" class=\"dataframe\">\n",
       "  <thead>\n",
       "    <tr style=\"text-align: right;\">\n",
       "      <th>description</th>\n",
       "      <th>player_name</th>\n",
       "      <th>ball</th>\n",
       "      <th>called_strike</th>\n",
       "    </tr>\n",
       "  </thead>\n",
       "  <tbody>\n",
       "    <tr>\n",
       "      <th>0</th>\n",
       "      <td>A.J. Pollock-SEA</td>\n",
       "      <td>169.0</td>\n",
       "      <td>73.0</td>\n",
       "    </tr>\n",
       "    <tr>\n",
       "      <th>1</th>\n",
       "      <td>A.J. Pollock-SF</td>\n",
       "      <td>13.0</td>\n",
       "      <td>5.0</td>\n",
       "    </tr>\n",
       "    <tr>\n",
       "      <th>2</th>\n",
       "      <td>Aaron Hicks-BAL</td>\n",
       "      <td>247.0</td>\n",
       "      <td>141.0</td>\n",
       "    </tr>\n",
       "    <tr>\n",
       "      <th>3</th>\n",
       "      <td>Aaron Hicks-NYY</td>\n",
       "      <td>112.0</td>\n",
       "      <td>53.0</td>\n",
       "    </tr>\n",
       "    <tr>\n",
       "      <th>4</th>\n",
       "      <td>Aaron Judge-NYY</td>\n",
       "      <td>459.0</td>\n",
       "      <td>190.0</td>\n",
       "    </tr>\n",
       "    <tr>\n",
       "      <th>5</th>\n",
       "      <td>Abraham Almonte-NYM</td>\n",
       "      <td>11.0</td>\n",
       "      <td>6.0</td>\n",
       "    </tr>\n",
       "    <tr>\n",
       "      <th>6</th>\n",
       "      <td>Abraham Toro-MIL</td>\n",
       "      <td>17.0</td>\n",
       "      <td>18.0</td>\n",
       "    </tr>\n",
       "    <tr>\n",
       "      <th>7</th>\n",
       "      <td>Adam Duvall-BOS</td>\n",
       "      <td>260.0</td>\n",
       "      <td>153.0</td>\n",
       "    </tr>\n",
       "    <tr>\n",
       "      <th>8</th>\n",
       "      <td>Adam Engel-SD</td>\n",
       "      <td>8.0</td>\n",
       "      <td>4.0</td>\n",
       "    </tr>\n",
       "    <tr>\n",
       "      <th>9</th>\n",
       "      <td>Adam Frazier-BAL</td>\n",
       "      <td>443.0</td>\n",
       "      <td>252.0</td>\n",
       "    </tr>\n",
       "    <tr>\n",
       "      <th>10</th>\n",
       "      <td>Adam Haseley-CWS</td>\n",
       "      <td>41.0</td>\n",
       "      <td>14.0</td>\n",
       "    </tr>\n",
       "    <tr>\n",
       "      <th>11</th>\n",
       "      <td>Adley Rutschman-BAL</td>\n",
       "      <td>777.0</td>\n",
       "      <td>441.0</td>\n",
       "    </tr>\n",
       "    <tr>\n",
       "      <th>12</th>\n",
       "      <td>Adolis Garcia-TEX</td>\n",
       "      <td>705.0</td>\n",
       "      <td>303.0</td>\n",
       "    </tr>\n",
       "    <tr>\n",
       "      <th>13</th>\n",
       "      <td>Akil Baddoo-DET</td>\n",
       "      <td>347.0</td>\n",
       "      <td>138.0</td>\n",
       "    </tr>\n",
       "    <tr>\n",
       "      <th>14</th>\n",
       "      <td>Alan Trejo-COL</td>\n",
       "      <td>208.0</td>\n",
       "      <td>101.0</td>\n",
       "    </tr>\n",
       "    <tr>\n",
       "      <th>15</th>\n",
       "      <td>Alec Bohm-PHI</td>\n",
       "      <td>534.0</td>\n",
       "      <td>258.0</td>\n",
       "    </tr>\n",
       "    <tr>\n",
       "      <th>16</th>\n",
       "      <td>Alec Burleson-STL</td>\n",
       "      <td>283.0</td>\n",
       "      <td>142.0</td>\n",
       "    </tr>\n",
       "    <tr>\n",
       "      <th>17</th>\n",
       "      <td>Aledmys Diaz-OAK</td>\n",
       "      <td>263.0</td>\n",
       "      <td>145.0</td>\n",
       "    </tr>\n",
       "    <tr>\n",
       "      <th>18</th>\n",
       "      <td>Alejandro Kirk-TOR</td>\n",
       "      <td>408.0</td>\n",
       "      <td>272.0</td>\n",
       "    </tr>\n",
       "    <tr>\n",
       "      <th>19</th>\n",
       "      <td>Alek Thomas-AZ</td>\n",
       "      <td>303.0</td>\n",
       "      <td>178.0</td>\n",
       "    </tr>\n",
       "  </tbody>\n",
       "</table>\n",
       "</div>"
      ],
      "text/plain": [
       "description          player_name   ball  called_strike\n",
       "0               A.J. Pollock-SEA  169.0           73.0\n",
       "1                A.J. Pollock-SF   13.0            5.0\n",
       "2                Aaron Hicks-BAL  247.0          141.0\n",
       "3                Aaron Hicks-NYY  112.0           53.0\n",
       "4                Aaron Judge-NYY  459.0          190.0\n",
       "5            Abraham Almonte-NYM   11.0            6.0\n",
       "6               Abraham Toro-MIL   17.0           18.0\n",
       "7                Adam Duvall-BOS  260.0          153.0\n",
       "8                  Adam Engel-SD    8.0            4.0\n",
       "9               Adam Frazier-BAL  443.0          252.0\n",
       "10              Adam Haseley-CWS   41.0           14.0\n",
       "11           Adley Rutschman-BAL  777.0          441.0\n",
       "12             Adolis Garcia-TEX  705.0          303.0\n",
       "13               Akil Baddoo-DET  347.0          138.0\n",
       "14                Alan Trejo-COL  208.0          101.0\n",
       "15                 Alec Bohm-PHI  534.0          258.0\n",
       "16             Alec Burleson-STL  283.0          142.0\n",
       "17              Aledmys Diaz-OAK  263.0          145.0\n",
       "18            Alejandro Kirk-TOR  408.0          272.0\n",
       "19                Alek Thomas-AZ  303.0          178.0"
      ]
     },
     "execution_count": 31,
     "metadata": {},
     "output_type": "execute_result"
    }
   ],
   "source": [
    "df_all_calls.head(20)"
   ]
  },
  {
   "cell_type": "code",
   "execution_count": 32,
   "metadata": {},
   "outputs": [],
   "source": [
    "df['pa'] = df['game_pk'].astype(str) + '-' + df['at_bat_number'].astype(str)"
   ]
  },
  {
   "cell_type": "code",
   "execution_count": 33,
   "metadata": {},
   "outputs": [],
   "source": [
    "df_grouped = df.groupby(by=['on_base','outs_when_up','count','type'])['delta_run_exp'].agg(pd.Series.mode).to_frame().reset_index()"
   ]
  },
  {
   "cell_type": "code",
   "execution_count": 34,
   "metadata": {},
   "outputs": [
    {
     "data": {
      "text/html": [
       "<div>\n",
       "<style scoped>\n",
       "    .dataframe tbody tr th:only-of-type {\n",
       "        vertical-align: middle;\n",
       "    }\n",
       "\n",
       "    .dataframe tbody tr th {\n",
       "        vertical-align: top;\n",
       "    }\n",
       "\n",
       "    .dataframe thead th {\n",
       "        text-align: right;\n",
       "    }\n",
       "</style>\n",
       "<table border=\"1\" class=\"dataframe\">\n",
       "  <thead>\n",
       "    <tr style=\"text-align: right;\">\n",
       "      <th></th>\n",
       "      <th>on_base</th>\n",
       "      <th>outs_when_up</th>\n",
       "      <th>count</th>\n",
       "      <th>type</th>\n",
       "      <th>delta_run_exp</th>\n",
       "    </tr>\n",
       "  </thead>\n",
       "  <tbody>\n",
       "    <tr>\n",
       "      <th>0</th>\n",
       "      <td>1-2-3</td>\n",
       "      <td>0</td>\n",
       "      <td>0-0</td>\n",
       "      <td>B</td>\n",
       "      <td>0.101</td>\n",
       "    </tr>\n",
       "    <tr>\n",
       "      <th>1</th>\n",
       "      <td>1-2-3</td>\n",
       "      <td>0</td>\n",
       "      <td>0-0</td>\n",
       "      <td>S</td>\n",
       "      <td>-0.123</td>\n",
       "    </tr>\n",
       "    <tr>\n",
       "      <th>2</th>\n",
       "      <td>1-2-3</td>\n",
       "      <td>0</td>\n",
       "      <td>0-1</td>\n",
       "      <td>B</td>\n",
       "      <td>0.101</td>\n",
       "    </tr>\n",
       "    <tr>\n",
       "      <th>3</th>\n",
       "      <td>1-2-3</td>\n",
       "      <td>0</td>\n",
       "      <td>0-1</td>\n",
       "      <td>S</td>\n",
       "      <td>-0.147</td>\n",
       "    </tr>\n",
       "    <tr>\n",
       "      <th>4</th>\n",
       "      <td>1-2-3</td>\n",
       "      <td>0</td>\n",
       "      <td>0-2</td>\n",
       "      <td>B</td>\n",
       "      <td>0.119</td>\n",
       "    </tr>\n",
       "  </tbody>\n",
       "</table>\n",
       "</div>"
      ],
      "text/plain": [
       "  on_base  outs_when_up count type  delta_run_exp\n",
       "0   1-2-3             0   0-0    B          0.101\n",
       "1   1-2-3             0   0-0    S         -0.123\n",
       "2   1-2-3             0   0-1    B          0.101\n",
       "3   1-2-3             0   0-1    S         -0.147\n",
       "4   1-2-3             0   0-2    B          0.119"
      ]
     },
     "execution_count": 34,
     "metadata": {},
     "output_type": "execute_result"
    }
   ],
   "source": [
    "df_grouped.head()"
   ]
  },
  {
   "cell_type": "markdown",
   "metadata": {},
   "source": [
    "## Finding All Missed Calls"
   ]
  },
  {
   "cell_type": "code",
   "execution_count": 35,
   "metadata": {},
   "outputs": [],
   "source": [
    "def actual_strike(df):\n",
    "    if df['zone'] > 10:\n",
    "        return 'B'\n",
    "    else:\n",
    "        return 'S'"
   ]
  },
  {
   "cell_type": "code",
   "execution_count": 36,
   "metadata": {
    "scrolled": true
   },
   "outputs": [],
   "source": [
    "df['correct_type'] = df.apply(actual_strike,axis=1)"
   ]
  },
  {
   "cell_type": "code",
   "execution_count": 37,
   "metadata": {},
   "outputs": [],
   "source": [
    "df_merged = df.merge(df_grouped,left_on=['on_base','outs_when_up','count','correct_type'],right_on=['on_base','outs_when_up','count','type'])"
   ]
  },
  {
   "cell_type": "code",
   "execution_count": 38,
   "metadata": {},
   "outputs": [],
   "source": [
    "df_merged['missed_call_delta_run_exp'] = df_merged['delta_run_exp_x'] - df_merged['delta_run_exp_y']"
   ]
  },
  {
   "cell_type": "code",
   "execution_count": 39,
   "metadata": {},
   "outputs": [
    {
     "data": {
      "text/plain": [
       "-188.21299999999997"
      ]
     },
     "execution_count": 39,
     "metadata": {},
     "output_type": "execute_result"
    }
   ],
   "source": [
    "df_merged['missed_call_delta_run_exp'].sum()"
   ]
  },
  {
   "cell_type": "code",
   "execution_count": 40,
   "metadata": {},
   "outputs": [],
   "source": [
    "df_mlb = df_merged[df_merged['missed_call_delta_run_exp']!=0].groupby(by=['player_name','correct_type']).count().reset_index().iloc[0:,0:3]"
   ]
  },
  {
   "cell_type": "code",
   "execution_count": 41,
   "metadata": {},
   "outputs": [
    {
     "data": {
      "text/html": [
       "<div>\n",
       "<style scoped>\n",
       "    .dataframe tbody tr th:only-of-type {\n",
       "        vertical-align: middle;\n",
       "    }\n",
       "\n",
       "    .dataframe tbody tr th {\n",
       "        vertical-align: top;\n",
       "    }\n",
       "\n",
       "    .dataframe thead th {\n",
       "        text-align: right;\n",
       "    }\n",
       "</style>\n",
       "<table border=\"1\" class=\"dataframe\">\n",
       "  <thead>\n",
       "    <tr style=\"text-align: right;\">\n",
       "      <th></th>\n",
       "      <th>player_name</th>\n",
       "      <th>correct_type</th>\n",
       "      <th>pitch_type</th>\n",
       "    </tr>\n",
       "  </thead>\n",
       "  <tbody>\n",
       "    <tr>\n",
       "      <th>0</th>\n",
       "      <td>A.J. Pollock-SEA</td>\n",
       "      <td>B</td>\n",
       "      <td>9</td>\n",
       "    </tr>\n",
       "    <tr>\n",
       "      <th>1</th>\n",
       "      <td>A.J. Pollock-SEA</td>\n",
       "      <td>S</td>\n",
       "      <td>7</td>\n",
       "    </tr>\n",
       "    <tr>\n",
       "      <th>2</th>\n",
       "      <td>A.J. Pollock-SF</td>\n",
       "      <td>B</td>\n",
       "      <td>1</td>\n",
       "    </tr>\n",
       "    <tr>\n",
       "      <th>3</th>\n",
       "      <td>A.J. Pollock-SF</td>\n",
       "      <td>S</td>\n",
       "      <td>2</td>\n",
       "    </tr>\n",
       "    <tr>\n",
       "      <th>4</th>\n",
       "      <td>Aaron Hicks-BAL</td>\n",
       "      <td>B</td>\n",
       "      <td>13</td>\n",
       "    </tr>\n",
       "  </tbody>\n",
       "</table>\n",
       "</div>"
      ],
      "text/plain": [
       "        player_name correct_type  pitch_type\n",
       "0  A.J. Pollock-SEA            B           9\n",
       "1  A.J. Pollock-SEA            S           7\n",
       "2   A.J. Pollock-SF            B           1\n",
       "3   A.J. Pollock-SF            S           2\n",
       "4   Aaron Hicks-BAL            B          13"
      ]
     },
     "execution_count": 41,
     "metadata": {},
     "output_type": "execute_result"
    }
   ],
   "source": [
    "df_mlb.head()"
   ]
  },
  {
   "cell_type": "code",
   "execution_count": 42,
   "metadata": {},
   "outputs": [],
   "source": [
    "df_mlb_pivoted = df_mlb.pivot_table('pitch_type', ['player_name'], 'correct_type')"
   ]
  },
  {
   "cell_type": "code",
   "execution_count": 43,
   "metadata": {},
   "outputs": [],
   "source": [
    "df_mlb_pivoted.reset_index(inplace=True)"
   ]
  },
  {
   "cell_type": "code",
   "execution_count": 44,
   "metadata": {
    "scrolled": true
   },
   "outputs": [
    {
     "data": {
      "text/html": [
       "<div>\n",
       "<style scoped>\n",
       "    .dataframe tbody tr th:only-of-type {\n",
       "        vertical-align: middle;\n",
       "    }\n",
       "\n",
       "    .dataframe tbody tr th {\n",
       "        vertical-align: top;\n",
       "    }\n",
       "\n",
       "    .dataframe thead th {\n",
       "        text-align: right;\n",
       "    }\n",
       "</style>\n",
       "<table border=\"1\" class=\"dataframe\">\n",
       "  <thead>\n",
       "    <tr style=\"text-align: right;\">\n",
       "      <th>correct_type</th>\n",
       "      <th>player_name</th>\n",
       "      <th>B</th>\n",
       "      <th>S</th>\n",
       "    </tr>\n",
       "  </thead>\n",
       "  <tbody>\n",
       "    <tr>\n",
       "      <th>0</th>\n",
       "      <td>A.J. Pollock-SEA</td>\n",
       "      <td>9.0</td>\n",
       "      <td>7.0</td>\n",
       "    </tr>\n",
       "    <tr>\n",
       "      <th>1</th>\n",
       "      <td>A.J. Pollock-SF</td>\n",
       "      <td>1.0</td>\n",
       "      <td>2.0</td>\n",
       "    </tr>\n",
       "    <tr>\n",
       "      <th>2</th>\n",
       "      <td>Aaron Hicks-BAL</td>\n",
       "      <td>13.0</td>\n",
       "      <td>9.0</td>\n",
       "    </tr>\n",
       "    <tr>\n",
       "      <th>3</th>\n",
       "      <td>Aaron Hicks-NYY</td>\n",
       "      <td>11.0</td>\n",
       "      <td>6.0</td>\n",
       "    </tr>\n",
       "    <tr>\n",
       "      <th>4</th>\n",
       "      <td>Aaron Judge-NYY</td>\n",
       "      <td>34.0</td>\n",
       "      <td>21.0</td>\n",
       "    </tr>\n",
       "  </tbody>\n",
       "</table>\n",
       "</div>"
      ],
      "text/plain": [
       "correct_type       player_name     B     S\n",
       "0             A.J. Pollock-SEA   9.0   7.0\n",
       "1              A.J. Pollock-SF   1.0   2.0\n",
       "2              Aaron Hicks-BAL  13.0   9.0\n",
       "3              Aaron Hicks-NYY  11.0   6.0\n",
       "4              Aaron Judge-NYY  34.0  21.0"
      ]
     },
     "execution_count": 44,
     "metadata": {},
     "output_type": "execute_result"
    }
   ],
   "source": [
    "df_mlb_pivoted.head()"
   ]
  },
  {
   "cell_type": "code",
   "execution_count": 45,
   "metadata": {},
   "outputs": [],
   "source": [
    "df_mlb_pivoted.fillna(0,inplace=True)"
   ]
  },
  {
   "cell_type": "code",
   "execution_count": 46,
   "metadata": {
    "scrolled": true
   },
   "outputs": [],
   "source": [
    "df_missed_and_total = df_mlb_pivoted.merge(df_all_calls,left_on='player_name',right_on='player_name')"
   ]
  },
  {
   "cell_type": "code",
   "execution_count": 47,
   "metadata": {
    "scrolled": true
   },
   "outputs": [],
   "source": [
    "df_missed_and_total.fillna(0,inplace=True)"
   ]
  },
  {
   "cell_type": "code",
   "execution_count": 48,
   "metadata": {
    "scrolled": true
   },
   "outputs": [
    {
     "data": {
      "text/html": [
       "<div>\n",
       "<style scoped>\n",
       "    .dataframe tbody tr th:only-of-type {\n",
       "        vertical-align: middle;\n",
       "    }\n",
       "\n",
       "    .dataframe tbody tr th {\n",
       "        vertical-align: top;\n",
       "    }\n",
       "\n",
       "    .dataframe thead th {\n",
       "        text-align: right;\n",
       "    }\n",
       "</style>\n",
       "<table border=\"1\" class=\"dataframe\">\n",
       "  <thead>\n",
       "    <tr style=\"text-align: right;\">\n",
       "      <th></th>\n",
       "      <th>player_name</th>\n",
       "      <th>B</th>\n",
       "      <th>S</th>\n",
       "      <th>ball</th>\n",
       "      <th>called_strike</th>\n",
       "    </tr>\n",
       "  </thead>\n",
       "  <tbody>\n",
       "    <tr>\n",
       "      <th>0</th>\n",
       "      <td>A.J. Pollock-SEA</td>\n",
       "      <td>9.0</td>\n",
       "      <td>7.0</td>\n",
       "      <td>169.0</td>\n",
       "      <td>73.0</td>\n",
       "    </tr>\n",
       "    <tr>\n",
       "      <th>1</th>\n",
       "      <td>A.J. Pollock-SF</td>\n",
       "      <td>1.0</td>\n",
       "      <td>2.0</td>\n",
       "      <td>13.0</td>\n",
       "      <td>5.0</td>\n",
       "    </tr>\n",
       "    <tr>\n",
       "      <th>2</th>\n",
       "      <td>Aaron Hicks-BAL</td>\n",
       "      <td>13.0</td>\n",
       "      <td>9.0</td>\n",
       "      <td>247.0</td>\n",
       "      <td>141.0</td>\n",
       "    </tr>\n",
       "    <tr>\n",
       "      <th>3</th>\n",
       "      <td>Aaron Hicks-NYY</td>\n",
       "      <td>11.0</td>\n",
       "      <td>6.0</td>\n",
       "      <td>112.0</td>\n",
       "      <td>53.0</td>\n",
       "    </tr>\n",
       "    <tr>\n",
       "      <th>4</th>\n",
       "      <td>Aaron Judge-NYY</td>\n",
       "      <td>34.0</td>\n",
       "      <td>21.0</td>\n",
       "      <td>459.0</td>\n",
       "      <td>190.0</td>\n",
       "    </tr>\n",
       "  </tbody>\n",
       "</table>\n",
       "</div>"
      ],
      "text/plain": [
       "        player_name     B     S   ball  called_strike\n",
       "0  A.J. Pollock-SEA   9.0   7.0  169.0           73.0\n",
       "1   A.J. Pollock-SF   1.0   2.0   13.0            5.0\n",
       "2   Aaron Hicks-BAL  13.0   9.0  247.0          141.0\n",
       "3   Aaron Hicks-NYY  11.0   6.0  112.0           53.0\n",
       "4   Aaron Judge-NYY  34.0  21.0  459.0          190.0"
      ]
     },
     "execution_count": 48,
     "metadata": {},
     "output_type": "execute_result"
    }
   ],
   "source": [
    "df_missed_and_total.head()"
   ]
  },
  {
   "cell_type": "code",
   "execution_count": 49,
   "metadata": {},
   "outputs": [],
   "source": [
    "df_runs = df_merged.groupby(by=['player_name','correct_type'])['missed_call_delta_run_exp'].sum().to_frame().reset_index().pivot_table('missed_call_delta_run_exp','player_name','correct_type').reset_index()"
   ]
  },
  {
   "cell_type": "code",
   "execution_count": 50,
   "metadata": {},
   "outputs": [],
   "source": [
    "df_runs.rename(columns={'B':'missed_call_dre_B','S':'missed_call_dre_S'},inplace=True)"
   ]
  },
  {
   "cell_type": "code",
   "execution_count": 51,
   "metadata": {},
   "outputs": [
    {
     "data": {
      "text/html": [
       "<div>\n",
       "<style scoped>\n",
       "    .dataframe tbody tr th:only-of-type {\n",
       "        vertical-align: middle;\n",
       "    }\n",
       "\n",
       "    .dataframe tbody tr th {\n",
       "        vertical-align: top;\n",
       "    }\n",
       "\n",
       "    .dataframe thead th {\n",
       "        text-align: right;\n",
       "    }\n",
       "</style>\n",
       "<table border=\"1\" class=\"dataframe\">\n",
       "  <thead>\n",
       "    <tr style=\"text-align: right;\">\n",
       "      <th>correct_type</th>\n",
       "      <th>player_name</th>\n",
       "      <th>missed_call_dre_B</th>\n",
       "      <th>missed_call_dre_S</th>\n",
       "    </tr>\n",
       "  </thead>\n",
       "  <tbody>\n",
       "    <tr>\n",
       "      <th>0</th>\n",
       "      <td>A.J. Pollock-SEA</td>\n",
       "      <td>-1.096</td>\n",
       "      <td>0.934</td>\n",
       "    </tr>\n",
       "    <tr>\n",
       "      <th>1</th>\n",
       "      <td>A.J. Pollock-SF</td>\n",
       "      <td>-0.075</td>\n",
       "      <td>0.149</td>\n",
       "    </tr>\n",
       "    <tr>\n",
       "      <th>2</th>\n",
       "      <td>Aaron Hicks-BAL</td>\n",
       "      <td>-1.583</td>\n",
       "      <td>1.219</td>\n",
       "    </tr>\n",
       "    <tr>\n",
       "      <th>3</th>\n",
       "      <td>Aaron Hicks-NYY</td>\n",
       "      <td>-1.664</td>\n",
       "      <td>0.627</td>\n",
       "    </tr>\n",
       "    <tr>\n",
       "      <th>4</th>\n",
       "      <td>Aaron Judge-NYY</td>\n",
       "      <td>-4.257</td>\n",
       "      <td>2.557</td>\n",
       "    </tr>\n",
       "  </tbody>\n",
       "</table>\n",
       "</div>"
      ],
      "text/plain": [
       "correct_type       player_name  missed_call_dre_B  missed_call_dre_S\n",
       "0             A.J. Pollock-SEA             -1.096              0.934\n",
       "1              A.J. Pollock-SF             -0.075              0.149\n",
       "2              Aaron Hicks-BAL             -1.583              1.219\n",
       "3              Aaron Hicks-NYY             -1.664              0.627\n",
       "4              Aaron Judge-NYY             -4.257              2.557"
      ]
     },
     "execution_count": 51,
     "metadata": {},
     "output_type": "execute_result"
    }
   ],
   "source": [
    "df_runs.head()"
   ]
  },
  {
   "cell_type": "code",
   "execution_count": 52,
   "metadata": {},
   "outputs": [],
   "source": [
    "df_missed_and_total_plus_runs = df_missed_and_total.merge(df_runs,left_on='player_name',right_on='player_name')"
   ]
  },
  {
   "cell_type": "code",
   "execution_count": 53,
   "metadata": {
    "scrolled": true
   },
   "outputs": [
    {
     "data": {
      "text/html": [
       "<div>\n",
       "<style scoped>\n",
       "    .dataframe tbody tr th:only-of-type {\n",
       "        vertical-align: middle;\n",
       "    }\n",
       "\n",
       "    .dataframe tbody tr th {\n",
       "        vertical-align: top;\n",
       "    }\n",
       "\n",
       "    .dataframe thead th {\n",
       "        text-align: right;\n",
       "    }\n",
       "</style>\n",
       "<table border=\"1\" class=\"dataframe\">\n",
       "  <thead>\n",
       "    <tr style=\"text-align: right;\">\n",
       "      <th></th>\n",
       "      <th>player_name</th>\n",
       "      <th>B</th>\n",
       "      <th>S</th>\n",
       "      <th>ball</th>\n",
       "      <th>called_strike</th>\n",
       "      <th>missed_call_dre_B</th>\n",
       "      <th>missed_call_dre_S</th>\n",
       "    </tr>\n",
       "  </thead>\n",
       "  <tbody>\n",
       "    <tr>\n",
       "      <th>0</th>\n",
       "      <td>A.J. Pollock-SEA</td>\n",
       "      <td>9.0</td>\n",
       "      <td>7.0</td>\n",
       "      <td>169.0</td>\n",
       "      <td>73.0</td>\n",
       "      <td>-1.096</td>\n",
       "      <td>0.934</td>\n",
       "    </tr>\n",
       "    <tr>\n",
       "      <th>1</th>\n",
       "      <td>A.J. Pollock-SF</td>\n",
       "      <td>1.0</td>\n",
       "      <td>2.0</td>\n",
       "      <td>13.0</td>\n",
       "      <td>5.0</td>\n",
       "      <td>-0.075</td>\n",
       "      <td>0.149</td>\n",
       "    </tr>\n",
       "    <tr>\n",
       "      <th>2</th>\n",
       "      <td>Aaron Hicks-BAL</td>\n",
       "      <td>13.0</td>\n",
       "      <td>9.0</td>\n",
       "      <td>247.0</td>\n",
       "      <td>141.0</td>\n",
       "      <td>-1.583</td>\n",
       "      <td>1.219</td>\n",
       "    </tr>\n",
       "    <tr>\n",
       "      <th>3</th>\n",
       "      <td>Aaron Hicks-NYY</td>\n",
       "      <td>11.0</td>\n",
       "      <td>6.0</td>\n",
       "      <td>112.0</td>\n",
       "      <td>53.0</td>\n",
       "      <td>-1.664</td>\n",
       "      <td>0.627</td>\n",
       "    </tr>\n",
       "    <tr>\n",
       "      <th>4</th>\n",
       "      <td>Aaron Judge-NYY</td>\n",
       "      <td>34.0</td>\n",
       "      <td>21.0</td>\n",
       "      <td>459.0</td>\n",
       "      <td>190.0</td>\n",
       "      <td>-4.257</td>\n",
       "      <td>2.557</td>\n",
       "    </tr>\n",
       "  </tbody>\n",
       "</table>\n",
       "</div>"
      ],
      "text/plain": [
       "        player_name     B     S   ball  called_strike  missed_call_dre_B  \\\n",
       "0  A.J. Pollock-SEA   9.0   7.0  169.0           73.0             -1.096   \n",
       "1   A.J. Pollock-SF   1.0   2.0   13.0            5.0             -0.075   \n",
       "2   Aaron Hicks-BAL  13.0   9.0  247.0          141.0             -1.583   \n",
       "3   Aaron Hicks-NYY  11.0   6.0  112.0           53.0             -1.664   \n",
       "4   Aaron Judge-NYY  34.0  21.0  459.0          190.0             -4.257   \n",
       "\n",
       "   missed_call_dre_S  \n",
       "0              0.934  \n",
       "1              0.149  \n",
       "2              1.219  \n",
       "3              0.627  \n",
       "4              2.557  "
      ]
     },
     "execution_count": 53,
     "metadata": {},
     "output_type": "execute_result"
    }
   ],
   "source": [
    "df_missed_and_total_plus_runs.head()"
   ]
  },
  {
   "cell_type": "code",
   "execution_count": 54,
   "metadata": {},
   "outputs": [],
   "source": [
    "df_batter_team = df[['player_name','batter_team']]"
   ]
  },
  {
   "cell_type": "code",
   "execution_count": 55,
   "metadata": {},
   "outputs": [],
   "source": [
    "df_batter_team = df_batter_team.drop_duplicates()"
   ]
  },
  {
   "cell_type": "code",
   "execution_count": 56,
   "metadata": {},
   "outputs": [],
   "source": [
    "df_mlb_pivoted = df_mlb_pivoted.merge(df_batter_team,how='left',left_on='player_name',right_on='player_name')"
   ]
  },
  {
   "cell_type": "code",
   "execution_count": 57,
   "metadata": {
    "scrolled": true
   },
   "outputs": [
    {
     "data": {
      "text/html": [
       "<div>\n",
       "<style scoped>\n",
       "    .dataframe tbody tr th:only-of-type {\n",
       "        vertical-align: middle;\n",
       "    }\n",
       "\n",
       "    .dataframe tbody tr th {\n",
       "        vertical-align: top;\n",
       "    }\n",
       "\n",
       "    .dataframe thead th {\n",
       "        text-align: right;\n",
       "    }\n",
       "</style>\n",
       "<table border=\"1\" class=\"dataframe\">\n",
       "  <thead>\n",
       "    <tr style=\"text-align: right;\">\n",
       "      <th></th>\n",
       "      <th>player_name</th>\n",
       "      <th>B</th>\n",
       "      <th>S</th>\n",
       "      <th>batter_team</th>\n",
       "    </tr>\n",
       "  </thead>\n",
       "  <tbody>\n",
       "    <tr>\n",
       "      <th>0</th>\n",
       "      <td>A.J. Pollock-SEA</td>\n",
       "      <td>9.0</td>\n",
       "      <td>7.0</td>\n",
       "      <td>SEA</td>\n",
       "    </tr>\n",
       "    <tr>\n",
       "      <th>1</th>\n",
       "      <td>A.J. Pollock-SF</td>\n",
       "      <td>1.0</td>\n",
       "      <td>2.0</td>\n",
       "      <td>SF</td>\n",
       "    </tr>\n",
       "    <tr>\n",
       "      <th>2</th>\n",
       "      <td>Aaron Hicks-BAL</td>\n",
       "      <td>13.0</td>\n",
       "      <td>9.0</td>\n",
       "      <td>BAL</td>\n",
       "    </tr>\n",
       "    <tr>\n",
       "      <th>3</th>\n",
       "      <td>Aaron Hicks-NYY</td>\n",
       "      <td>11.0</td>\n",
       "      <td>6.0</td>\n",
       "      <td>NYY</td>\n",
       "    </tr>\n",
       "    <tr>\n",
       "      <th>4</th>\n",
       "      <td>Aaron Judge-NYY</td>\n",
       "      <td>34.0</td>\n",
       "      <td>21.0</td>\n",
       "      <td>NYY</td>\n",
       "    </tr>\n",
       "    <tr>\n",
       "      <th>5</th>\n",
       "      <td>Abraham Almonte-NYM</td>\n",
       "      <td>2.0</td>\n",
       "      <td>1.0</td>\n",
       "      <td>NYM</td>\n",
       "    </tr>\n",
       "    <tr>\n",
       "      <th>6</th>\n",
       "      <td>Abraham Toro-MIL</td>\n",
       "      <td>2.0</td>\n",
       "      <td>0.0</td>\n",
       "      <td>MIL</td>\n",
       "    </tr>\n",
       "    <tr>\n",
       "      <th>7</th>\n",
       "      <td>Adam Duvall-BOS</td>\n",
       "      <td>25.0</td>\n",
       "      <td>10.0</td>\n",
       "      <td>BOS</td>\n",
       "    </tr>\n",
       "    <tr>\n",
       "      <th>8</th>\n",
       "      <td>Adam Frazier-BAL</td>\n",
       "      <td>35.0</td>\n",
       "      <td>19.0</td>\n",
       "      <td>BAL</td>\n",
       "    </tr>\n",
       "    <tr>\n",
       "      <th>9</th>\n",
       "      <td>Adam Haseley-CWS</td>\n",
       "      <td>3.0</td>\n",
       "      <td>5.0</td>\n",
       "      <td>CWS</td>\n",
       "    </tr>\n",
       "    <tr>\n",
       "      <th>10</th>\n",
       "      <td>Adley Rutschman-BAL</td>\n",
       "      <td>62.0</td>\n",
       "      <td>27.0</td>\n",
       "      <td>BAL</td>\n",
       "    </tr>\n",
       "    <tr>\n",
       "      <th>11</th>\n",
       "      <td>Adolis Garcia-TEX</td>\n",
       "      <td>54.0</td>\n",
       "      <td>34.0</td>\n",
       "      <td>TEX</td>\n",
       "    </tr>\n",
       "    <tr>\n",
       "      <th>12</th>\n",
       "      <td>Akil Baddoo-DET</td>\n",
       "      <td>13.0</td>\n",
       "      <td>22.0</td>\n",
       "      <td>DET</td>\n",
       "    </tr>\n",
       "    <tr>\n",
       "      <th>13</th>\n",
       "      <td>Alan Trejo-COL</td>\n",
       "      <td>10.0</td>\n",
       "      <td>10.0</td>\n",
       "      <td>COL</td>\n",
       "    </tr>\n",
       "    <tr>\n",
       "      <th>14</th>\n",
       "      <td>Alec Bohm-PHI</td>\n",
       "      <td>17.0</td>\n",
       "      <td>29.0</td>\n",
       "      <td>PHI</td>\n",
       "    </tr>\n",
       "    <tr>\n",
       "      <th>15</th>\n",
       "      <td>Alec Burleson-STL</td>\n",
       "      <td>21.0</td>\n",
       "      <td>15.0</td>\n",
       "      <td>STL</td>\n",
       "    </tr>\n",
       "    <tr>\n",
       "      <th>16</th>\n",
       "      <td>Aledmys Diaz-OAK</td>\n",
       "      <td>12.0</td>\n",
       "      <td>11.0</td>\n",
       "      <td>OAK</td>\n",
       "    </tr>\n",
       "    <tr>\n",
       "      <th>17</th>\n",
       "      <td>Alejandro Kirk-TOR</td>\n",
       "      <td>36.0</td>\n",
       "      <td>23.0</td>\n",
       "      <td>TOR</td>\n",
       "    </tr>\n",
       "    <tr>\n",
       "      <th>18</th>\n",
       "      <td>Alek Thomas-AZ</td>\n",
       "      <td>18.0</td>\n",
       "      <td>26.0</td>\n",
       "      <td>AZ</td>\n",
       "    </tr>\n",
       "    <tr>\n",
       "      <th>19</th>\n",
       "      <td>Alex Bregman-HOU</td>\n",
       "      <td>61.0</td>\n",
       "      <td>33.0</td>\n",
       "      <td>HOU</td>\n",
       "    </tr>\n",
       "    <tr>\n",
       "      <th>20</th>\n",
       "      <td>Alex Call-WSH</td>\n",
       "      <td>42.0</td>\n",
       "      <td>25.0</td>\n",
       "      <td>WSH</td>\n",
       "    </tr>\n",
       "    <tr>\n",
       "      <th>21</th>\n",
       "      <td>Alex Kirilloff-MIN</td>\n",
       "      <td>27.0</td>\n",
       "      <td>8.0</td>\n",
       "      <td>MIN</td>\n",
       "    </tr>\n",
       "    <tr>\n",
       "      <th>22</th>\n",
       "      <td>Alex Verdugo-BOS</td>\n",
       "      <td>37.0</td>\n",
       "      <td>50.0</td>\n",
       "      <td>BOS</td>\n",
       "    </tr>\n",
       "    <tr>\n",
       "      <th>23</th>\n",
       "      <td>Alfonso Rivas-PIT</td>\n",
       "      <td>3.0</td>\n",
       "      <td>1.0</td>\n",
       "      <td>PIT</td>\n",
       "    </tr>\n",
       "    <tr>\n",
       "      <th>24</th>\n",
       "      <td>Alfonso Rivas-SD</td>\n",
       "      <td>0.0</td>\n",
       "      <td>2.0</td>\n",
       "      <td>SD</td>\n",
       "    </tr>\n",
       "  </tbody>\n",
       "</table>\n",
       "</div>"
      ],
      "text/plain": [
       "            player_name     B     S batter_team\n",
       "0      A.J. Pollock-SEA   9.0   7.0         SEA\n",
       "1       A.J. Pollock-SF   1.0   2.0          SF\n",
       "2       Aaron Hicks-BAL  13.0   9.0         BAL\n",
       "3       Aaron Hicks-NYY  11.0   6.0         NYY\n",
       "4       Aaron Judge-NYY  34.0  21.0         NYY\n",
       "5   Abraham Almonte-NYM   2.0   1.0         NYM\n",
       "6      Abraham Toro-MIL   2.0   0.0         MIL\n",
       "7       Adam Duvall-BOS  25.0  10.0         BOS\n",
       "8      Adam Frazier-BAL  35.0  19.0         BAL\n",
       "9      Adam Haseley-CWS   3.0   5.0         CWS\n",
       "10  Adley Rutschman-BAL  62.0  27.0         BAL\n",
       "11    Adolis Garcia-TEX  54.0  34.0         TEX\n",
       "12      Akil Baddoo-DET  13.0  22.0         DET\n",
       "13       Alan Trejo-COL  10.0  10.0         COL\n",
       "14        Alec Bohm-PHI  17.0  29.0         PHI\n",
       "15    Alec Burleson-STL  21.0  15.0         STL\n",
       "16     Aledmys Diaz-OAK  12.0  11.0         OAK\n",
       "17   Alejandro Kirk-TOR  36.0  23.0         TOR\n",
       "18       Alek Thomas-AZ  18.0  26.0          AZ\n",
       "19     Alex Bregman-HOU  61.0  33.0         HOU\n",
       "20        Alex Call-WSH  42.0  25.0         WSH\n",
       "21   Alex Kirilloff-MIN  27.0   8.0         MIN\n",
       "22     Alex Verdugo-BOS  37.0  50.0         BOS\n",
       "23    Alfonso Rivas-PIT   3.0   1.0         PIT\n",
       "24     Alfonso Rivas-SD   0.0   2.0          SD"
      ]
     },
     "execution_count": 57,
     "metadata": {},
     "output_type": "execute_result"
    }
   ],
   "source": [
    "df_mlb_pivoted.head(25)"
   ]
  },
  {
   "cell_type": "code",
   "execution_count": 58,
   "metadata": {},
   "outputs": [],
   "source": [
    "df_missed_and_total_plus_runs = df_missed_and_total_plus_runs.merge(df_batter_team,how='left',left_on='player_name',right_on='player_name')"
   ]
  },
  {
   "cell_type": "code",
   "execution_count": 59,
   "metadata": {},
   "outputs": [
    {
     "data": {
      "text/html": [
       "<div>\n",
       "<style scoped>\n",
       "    .dataframe tbody tr th:only-of-type {\n",
       "        vertical-align: middle;\n",
       "    }\n",
       "\n",
       "    .dataframe tbody tr th {\n",
       "        vertical-align: top;\n",
       "    }\n",
       "\n",
       "    .dataframe thead th {\n",
       "        text-align: right;\n",
       "    }\n",
       "</style>\n",
       "<table border=\"1\" class=\"dataframe\">\n",
       "  <thead>\n",
       "    <tr style=\"text-align: right;\">\n",
       "      <th></th>\n",
       "      <th>player_name</th>\n",
       "      <th>B</th>\n",
       "      <th>S</th>\n",
       "      <th>ball</th>\n",
       "      <th>called_strike</th>\n",
       "      <th>missed_call_dre_B</th>\n",
       "      <th>missed_call_dre_S</th>\n",
       "      <th>batter_team</th>\n",
       "    </tr>\n",
       "  </thead>\n",
       "  <tbody>\n",
       "    <tr>\n",
       "      <th>0</th>\n",
       "      <td>A.J. Pollock-SEA</td>\n",
       "      <td>9.0</td>\n",
       "      <td>7.0</td>\n",
       "      <td>169.0</td>\n",
       "      <td>73.0</td>\n",
       "      <td>-1.096</td>\n",
       "      <td>0.934</td>\n",
       "      <td>SEA</td>\n",
       "    </tr>\n",
       "    <tr>\n",
       "      <th>1</th>\n",
       "      <td>A.J. Pollock-SF</td>\n",
       "      <td>1.0</td>\n",
       "      <td>2.0</td>\n",
       "      <td>13.0</td>\n",
       "      <td>5.0</td>\n",
       "      <td>-0.075</td>\n",
       "      <td>0.149</td>\n",
       "      <td>SF</td>\n",
       "    </tr>\n",
       "    <tr>\n",
       "      <th>2</th>\n",
       "      <td>Aaron Hicks-BAL</td>\n",
       "      <td>13.0</td>\n",
       "      <td>9.0</td>\n",
       "      <td>247.0</td>\n",
       "      <td>141.0</td>\n",
       "      <td>-1.583</td>\n",
       "      <td>1.219</td>\n",
       "      <td>BAL</td>\n",
       "    </tr>\n",
       "    <tr>\n",
       "      <th>3</th>\n",
       "      <td>Aaron Hicks-NYY</td>\n",
       "      <td>11.0</td>\n",
       "      <td>6.0</td>\n",
       "      <td>112.0</td>\n",
       "      <td>53.0</td>\n",
       "      <td>-1.664</td>\n",
       "      <td>0.627</td>\n",
       "      <td>NYY</td>\n",
       "    </tr>\n",
       "    <tr>\n",
       "      <th>4</th>\n",
       "      <td>Aaron Judge-NYY</td>\n",
       "      <td>34.0</td>\n",
       "      <td>21.0</td>\n",
       "      <td>459.0</td>\n",
       "      <td>190.0</td>\n",
       "      <td>-4.257</td>\n",
       "      <td>2.557</td>\n",
       "      <td>NYY</td>\n",
       "    </tr>\n",
       "  </tbody>\n",
       "</table>\n",
       "</div>"
      ],
      "text/plain": [
       "        player_name     B     S   ball  called_strike  missed_call_dre_B  \\\n",
       "0  A.J. Pollock-SEA   9.0   7.0  169.0           73.0             -1.096   \n",
       "1   A.J. Pollock-SF   1.0   2.0   13.0            5.0             -0.075   \n",
       "2   Aaron Hicks-BAL  13.0   9.0  247.0          141.0             -1.583   \n",
       "3   Aaron Hicks-NYY  11.0   6.0  112.0           53.0             -1.664   \n",
       "4   Aaron Judge-NYY  34.0  21.0  459.0          190.0             -4.257   \n",
       "\n",
       "   missed_call_dre_S batter_team  \n",
       "0              0.934         SEA  \n",
       "1              0.149          SF  \n",
       "2              1.219         BAL  \n",
       "3              0.627         NYY  \n",
       "4              2.557         NYY  "
      ]
     },
     "execution_count": 59,
     "metadata": {},
     "output_type": "execute_result"
    }
   ],
   "source": [
    "df_missed_and_total_plus_runs.head()"
   ]
  },
  {
   "cell_type": "code",
   "execution_count": 60,
   "metadata": {},
   "outputs": [],
   "source": [
    "df_mlb_pivoted.to_csv('mlb_calls_pivoted.csv')"
   ]
  },
  {
   "cell_type": "code",
   "execution_count": 61,
   "metadata": {},
   "outputs": [],
   "source": [
    "df_missed_and_total_plus_runs.to_csv('mlb_missed_and_total_calls_plus_runs.csv')"
   ]
  },
  {
   "cell_type": "code",
   "execution_count": null,
   "metadata": {},
   "outputs": [],
   "source": []
  }
 ],
 "metadata": {
  "kernelspec": {
   "display_name": "Python (learn-env)",
   "language": "python",
   "name": "learn-env"
  },
  "language_info": {
   "codemirror_mode": {
    "name": "ipython",
    "version": 3
   },
   "file_extension": ".py",
   "mimetype": "text/x-python",
   "name": "python",
   "nbconvert_exporter": "python",
   "pygments_lexer": "ipython3",
   "version": "3.8.5"
  }
 },
 "nbformat": 4,
 "nbformat_minor": 4
}
