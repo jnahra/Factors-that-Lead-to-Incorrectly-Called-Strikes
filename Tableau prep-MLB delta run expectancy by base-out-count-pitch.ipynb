{
 "cells": [
  {
   "cell_type": "markdown",
   "metadata": {},
   "source": [
    "# Missed Call Exploration for MLB Hitters 2023"
   ]
  },
  {
   "cell_type": "markdown",
   "metadata": {},
   "source": [
    "<img src=\"https://thestadiumreviews.com/wp-content/uploads/2022/02/how-does-scoring-work-in-baseball.jpg\" alt=\"Change in Run Expectancy\" style=\"float: left; margin-right: 10px;\" />"
   ]
  },
  {
   "cell_type": "markdown",
   "metadata": {},
   "source": [
    "### by John Nahra"
   ]
  },
  {
   "cell_type": "markdown",
   "metadata": {},
   "source": [
    "## Finding Change in Run Expectancy for each Base-Out-Count-Pitch"
   ]
  },
  {
   "cell_type": "code",
   "execution_count": 1,
   "metadata": {},
   "outputs": [],
   "source": [
    "#import basic packages\n",
    "import pandas as pd\n",
    "import numpy as np"
   ]
  },
  {
   "cell_type": "code",
   "execution_count": 2,
   "metadata": {},
   "outputs": [
    {
     "name": "stdout",
     "output_type": "stream",
     "text": [
      "Requirement already satisfied: pip in /Users/johnnahra/opt/anaconda3/envs/learn-env/lib/python3.8/site-packages (23.2.1)\n",
      "Requirement already satisfied: setuptools in /Users/johnnahra/opt/anaconda3/envs/learn-env/lib/python3.8/site-packages (68.1.0)\n",
      "Requirement already satisfied: wheel in /Users/johnnahra/opt/anaconda3/envs/learn-env/lib/python3.8/site-packages (0.41.1)\n",
      "Note: you may need to restart the kernel to use updated packages.\n"
     ]
    }
   ],
   "source": [
    "#install wheel\n",
    "pip install --upgrade pip setuptools wheel"
   ]
  },
  {
   "cell_type": "code",
   "execution_count": 3,
   "metadata": {},
   "outputs": [
    {
     "name": "stdout",
     "output_type": "stream",
     "text": [
      "Requirement already satisfied: pynacl in /Users/johnnahra/opt/anaconda3/envs/learn-env/lib/python3.8/site-packages (1.5.0)\r\n",
      "Requirement already satisfied: cffi>=1.4.1 in /Users/johnnahra/opt/anaconda3/envs/learn-env/lib/python3.8/site-packages (from pynacl) (1.14.3)\r\n",
      "Requirement already satisfied: pycparser in /Users/johnnahra/opt/anaconda3/envs/learn-env/lib/python3.8/site-packages (from cffi>=1.4.1->pynacl) (2.20)\r\n"
     ]
    }
   ],
   "source": [
    "#install pynacl\n",
    "!pip install pynacl"
   ]
  },
  {
   "cell_type": "code",
   "execution_count": 4,
   "metadata": {},
   "outputs": [
    {
     "name": "stdout",
     "output_type": "stream",
     "text": [
      "Requirement already satisfied: pybaseball in /Users/johnnahra/opt/anaconda3/envs/learn-env/lib/python3.8/site-packages (2.2.5)\n",
      "Requirement already satisfied: numpy>=1.13.0 in /Users/johnnahra/opt/anaconda3/envs/learn-env/lib/python3.8/site-packages (from pybaseball) (1.18.5)\n",
      "Requirement already satisfied: pandas>=1.0.3 in /Users/johnnahra/opt/anaconda3/envs/learn-env/lib/python3.8/site-packages (from pybaseball) (1.1.3)\n",
      "Requirement already satisfied: beautifulsoup4>=4.4.0 in /Users/johnnahra/opt/anaconda3/envs/learn-env/lib/python3.8/site-packages (from pybaseball) (4.9.3)\n",
      "Requirement already satisfied: requests>=2.18.1 in /Users/johnnahra/opt/anaconda3/envs/learn-env/lib/python3.8/site-packages (from pybaseball) (2.24.0)\n",
      "Requirement already satisfied: lxml>=4.2.1 in /Users/johnnahra/opt/anaconda3/envs/learn-env/lib/python3.8/site-packages (from pybaseball) (4.5.2)\n",
      "Requirement already satisfied: pyarrow>=1.0.1 in /Users/johnnahra/opt/anaconda3/envs/learn-env/lib/python3.8/site-packages (from pybaseball) (1.0.1)\n",
      "Requirement already satisfied: pygithub>=1.51 in /Users/johnnahra/opt/anaconda3/envs/learn-env/lib/python3.8/site-packages (from pybaseball) (1.59.1)\n",
      "Requirement already satisfied: scipy>=1.4.0 in /Users/johnnahra/opt/anaconda3/envs/learn-env/lib/python3.8/site-packages (from pybaseball) (1.5.2)\n",
      "Requirement already satisfied: matplotlib>=2.0.0 in /Users/johnnahra/opt/anaconda3/envs/learn-env/lib/python3.8/site-packages (from pybaseball) (3.3.1)\n",
      "Requirement already satisfied: tqdm>=4.50.0 in /Users/johnnahra/opt/anaconda3/envs/learn-env/lib/python3.8/site-packages (from pybaseball) (4.50.2)\n",
      "Requirement already satisfied: attrs>=20.3.0 in /Users/johnnahra/opt/anaconda3/envs/learn-env/lib/python3.8/site-packages (from pybaseball) (23.1.0)\n",
      "Requirement already satisfied: soupsieve>1.2 in /Users/johnnahra/opt/anaconda3/envs/learn-env/lib/python3.8/site-packages (from beautifulsoup4>=4.4.0->pybaseball) (2.0.1)\n",
      "Requirement already satisfied: certifi>=2020.06.20 in /Users/johnnahra/opt/anaconda3/envs/learn-env/lib/python3.8/site-packages (from matplotlib>=2.0.0->pybaseball) (2022.12.7)\n",
      "Requirement already satisfied: cycler>=0.10 in /Users/johnnahra/opt/anaconda3/envs/learn-env/lib/python3.8/site-packages (from matplotlib>=2.0.0->pybaseball) (0.10.0)\n",
      "Requirement already satisfied: kiwisolver>=1.0.1 in /Users/johnnahra/opt/anaconda3/envs/learn-env/lib/python3.8/site-packages (from matplotlib>=2.0.0->pybaseball) (1.2.0)\n",
      "Requirement already satisfied: pillow>=6.2.0 in /Users/johnnahra/opt/anaconda3/envs/learn-env/lib/python3.8/site-packages (from matplotlib>=2.0.0->pybaseball) (7.2.0)\n",
      "Requirement already satisfied: pyparsing!=2.0.4,!=2.1.2,!=2.1.6,>=2.0.3 in /Users/johnnahra/opt/anaconda3/envs/learn-env/lib/python3.8/site-packages (from matplotlib>=2.0.0->pybaseball) (2.4.7)\n",
      "Requirement already satisfied: python-dateutil>=2.1 in /Users/johnnahra/opt/anaconda3/envs/learn-env/lib/python3.8/site-packages (from matplotlib>=2.0.0->pybaseball) (2.8.1)\n",
      "Requirement already satisfied: pytz>=2017.2 in /Users/johnnahra/opt/anaconda3/envs/learn-env/lib/python3.8/site-packages (from pandas>=1.0.3->pybaseball) (2020.1)\n",
      "Requirement already satisfied: deprecated in /Users/johnnahra/opt/anaconda3/envs/learn-env/lib/python3.8/site-packages (from pygithub>=1.51->pybaseball) (1.2.14)\n",
      "Requirement already satisfied: pyjwt[crypto]>=2.4.0 in /Users/johnnahra/opt/anaconda3/envs/learn-env/lib/python3.8/site-packages (from pygithub>=1.51->pybaseball) (2.8.0)\n",
      "Requirement already satisfied: pynacl>=1.4.0 in /Users/johnnahra/opt/anaconda3/envs/learn-env/lib/python3.8/site-packages (from pygithub>=1.51->pybaseball) (1.5.0)\n",
      "Requirement already satisfied: chardet<4,>=3.0.2 in /Users/johnnahra/opt/anaconda3/envs/learn-env/lib/python3.8/site-packages (from requests>=2.18.1->pybaseball) (3.0.4)\n",
      "Requirement already satisfied: idna<3,>=2.5 in /Users/johnnahra/opt/anaconda3/envs/learn-env/lib/python3.8/site-packages (from requests>=2.18.1->pybaseball) (2.10)\n",
      "Requirement already satisfied: urllib3!=1.25.0,!=1.25.1,<1.26,>=1.21.1 in /Users/johnnahra/opt/anaconda3/envs/learn-env/lib/python3.8/site-packages (from requests>=2.18.1->pybaseball) (1.25.11)\n",
      "Requirement already satisfied: six in /Users/johnnahra/opt/anaconda3/envs/learn-env/lib/python3.8/site-packages (from cycler>=0.10->matplotlib>=2.0.0->pybaseball) (1.15.0)\n",
      "Requirement already satisfied: cryptography>=3.4.0 in /Users/johnnahra/opt/anaconda3/envs/learn-env/lib/python3.8/site-packages (from pyjwt[crypto]>=2.4.0->pygithub>=1.51->pybaseball) (41.0.3)\n",
      "Requirement already satisfied: cffi>=1.4.1 in /Users/johnnahra/opt/anaconda3/envs/learn-env/lib/python3.8/site-packages (from pynacl>=1.4.0->pygithub>=1.51->pybaseball) (1.14.3)\n",
      "Requirement already satisfied: wrapt<2,>=1.10 in /Users/johnnahra/opt/anaconda3/envs/learn-env/lib/python3.8/site-packages (from deprecated->pygithub>=1.51->pybaseball) (1.12.1)\n",
      "Requirement already satisfied: pycparser in /Users/johnnahra/opt/anaconda3/envs/learn-env/lib/python3.8/site-packages (from cffi>=1.4.1->pynacl>=1.4.0->pygithub>=1.51->pybaseball) (2.20)\n"
     ]
    }
   ],
   "source": [
    "#install pybaseball\n",
    "!pip install pybaseball"
   ]
  },
  {
   "cell_type": "code",
   "execution_count": 5,
   "metadata": {},
   "outputs": [],
   "source": [
    "#import statcast packages\n",
    "from pybaseball import statcast\n",
    "from pybaseball import statcast_batter"
   ]
  },
  {
   "cell_type": "code",
   "execution_count": 6,
   "metadata": {},
   "outputs": [],
   "source": [
    "#import and enable cache\n",
    "from pybaseball import cache\n",
    "\n",
    "cache.enable()"
   ]
  },
  {
   "cell_type": "code",
   "execution_count": 7,
   "metadata": {},
   "outputs": [],
   "source": [
    "#read in player ID csv\n",
    "df_ids = pd.read_csv('player_ids.csv')"
   ]
  },
  {
   "cell_type": "code",
   "execution_count": 9,
   "metadata": {},
   "outputs": [],
   "source": [
    "#keep ID and name\n",
    "df_ids = df_ids[['MLBID','MLBNAME']]"
   ]
  },
  {
   "cell_type": "code",
   "execution_count": 10,
   "metadata": {},
   "outputs": [],
   "source": [
    "#drop missing values\n",
    "df_ids = df_ids.dropna()"
   ]
  },
  {
   "cell_type": "code",
   "execution_count": 11,
   "metadata": {},
   "outputs": [],
   "source": [
    "#change ID to integer type\n",
    "df_ids['MLBID'] = df_ids['MLBID'].astype(int)"
   ]
  },
  {
   "cell_type": "code",
   "execution_count": 12,
   "metadata": {
    "scrolled": true
   },
   "outputs": [
    {
     "name": "stdout",
     "output_type": "stream",
     "text": [
      "This is a large query, it may take a moment to complete\n"
     ]
    },
    {
     "name": "stderr",
     "output_type": "stream",
     "text": [
      "100%|██████████| 138/138 [00:06<00:00, 22.01it/s]\n"
     ]
    }
   ],
   "source": [
    "#download statcast data for the 2023 season\n",
    "df = statcast(start_dt=\"2023-03-30\", end_dt=\"2023-08-14\",verbose=True)"
   ]
  },
  {
   "cell_type": "code",
   "execution_count": 14,
   "metadata": {},
   "outputs": [],
   "source": [
    "#merge IDs to statcast data\n",
    "df = df.merge(df_ids,left_on='batter',right_on='MLBID')"
   ]
  },
  {
   "cell_type": "code",
   "execution_count": 15,
   "metadata": {
    "scrolled": true
   },
   "outputs": [],
   "source": [
    "#drop duplicate player name column\n",
    "df = df.drop('player_name',axis=1)"
   ]
  },
  {
   "cell_type": "code",
   "execution_count": 16,
   "metadata": {},
   "outputs": [],
   "source": [
    "#rename column to player name\n",
    "df = df.rename(columns={'MLBNAME':'player_name'})"
   ]
  },
  {
   "cell_type": "code",
   "execution_count": 17,
   "metadata": {},
   "outputs": [],
   "source": [
    "#only keep called strikes and balls\n",
    "df = df.loc[(df['description'] == 'called_strike') | (df['description'] == 'ball')]"
   ]
  },
  {
   "cell_type": "code",
   "execution_count": 18,
   "metadata": {},
   "outputs": [],
   "source": [
    "#only keep pitches with a non-missing run expectancy value\n",
    "df = df[df['delta_run_exp'].notna()]"
   ]
  },
  {
   "cell_type": "code",
   "execution_count": 19,
   "metadata": {},
   "outputs": [],
   "source": [
    "#only keep pitches where we can determine whether the call was missed\n",
    "df = df[df['zone'].notna()]"
   ]
  },
  {
   "cell_type": "code",
   "execution_count": 20,
   "metadata": {},
   "outputs": [],
   "source": [
    "#create a function that returns the team a batter plays for\n",
    "def batter_team(df):\n",
    "    if df['inning_topbot'] == 'Top':\n",
    "        return df['away_team']\n",
    "    else:\n",
    "        return df['home_team']"
   ]
  },
  {
   "cell_type": "code",
   "execution_count": 21,
   "metadata": {},
   "outputs": [],
   "source": [
    "#apply function to create a new variable\n",
    "df['batter_team'] = df.apply(batter_team,axis=1)"
   ]
  },
  {
   "cell_type": "code",
   "execution_count": 22,
   "metadata": {},
   "outputs": [],
   "source": [
    "#create a new variable that combines the player's name and their team (in order to group by team, account for trades)\n",
    "df['player_name'] = df['player_name'] + '-' + df['batter_team']"
   ]
  },
  {
   "cell_type": "code",
   "execution_count": 23,
   "metadata": {
    "scrolled": true
   },
   "outputs": [
    {
     "data": {
      "text/plain": [
       "walk                          10334\n",
       "strikeout                      6945\n",
       "caught_stealing_2b              133\n",
       "strikeout_double_play            17\n",
       "pickoff_1b                        7\n",
       "caught_stealing_home              6\n",
       "wild_pitch                        5\n",
       "pickoff_caught_stealing_2b        5\n",
       "caught_stealing_3b                4\n",
       "other_out                         3\n",
       "pickoff_3b                        2\n",
       "catcher_interf                    1\n",
       "Name: events, dtype: int64"
      ]
     },
     "execution_count": 23,
     "metadata": {},
     "output_type": "execute_result"
    }
   ],
   "source": [
    "#look at event types of pitches\n",
    "df['events'].value_counts()"
   ]
  },
  {
   "cell_type": "code",
   "execution_count": 24,
   "metadata": {},
   "outputs": [],
   "source": [
    "#only keep walks, strikeouts, and non-event pitch results\n",
    "df = df.loc[(df['events']=='walk') | (df['events']=='strikeout') | (df['events'].isna())]"
   ]
  },
  {
   "cell_type": "code",
   "execution_count": 26,
   "metadata": {
    "scrolled": true
   },
   "outputs": [],
   "source": [
    "#create new variable of the count\n",
    "df['count'] = df['balls'].astype(str) + '-' + df['strikes'].astype(str)"
   ]
  },
  {
   "cell_type": "code",
   "execution_count": 27,
   "metadata": {},
   "outputs": [],
   "source": [
    "#creates variable of runner on first or not\n",
    "df['on_base'] = np.where(df['on_1b'].notna(),'1','_')"
   ]
  },
  {
   "cell_type": "code",
   "execution_count": 28,
   "metadata": {},
   "outputs": [],
   "source": [
    "#adds whether runner is on second or not\n",
    "df['on_base'] = df['on_base'] + '-' + np.where(df['on_2b'].notna(),'2','_')"
   ]
  },
  {
   "cell_type": "code",
   "execution_count": 29,
   "metadata": {},
   "outputs": [],
   "source": [
    "#adds whether runner is on third or not\n",
    "df['on_base'] = df['on_base'] + '-' + np.where(df['on_3b'].notna(),'3','_')"
   ]
  },
  {
   "cell_type": "code",
   "execution_count": 30,
   "metadata": {},
   "outputs": [],
   "source": [
    "#creates df of pitch type grouped by player name\n",
    "df_all_calls = df.groupby(by=['player_name','description'])['pitch_type'].count().reset_index().pivot_table('pitch_type',['player_name'],'description').reset_index()"
   ]
  },
  {
   "cell_type": "code",
   "execution_count": 32,
   "metadata": {},
   "outputs": [],
   "source": [
    "#creates new variable of unique plate appearance ID\n",
    "df['pa'] = df['game_pk'].astype(str) + '-' + df['at_bat_number'].astype(str)"
   ]
  },
  {
   "cell_type": "code",
   "execution_count": 33,
   "metadata": {},
   "outputs": [],
   "source": [
    "#creates df of change in run expectancy grouped by runners on base, outs, count, and pitch type\n",
    "df_grouped = df.groupby(by=['on_base','outs_when_up','count','type'])['delta_run_exp'].agg(pd.Series.mode).to_frame().reset_index()"
   ]
  },
  {
   "cell_type": "markdown",
   "metadata": {},
   "source": [
    "## Finding All Missed Calls"
   ]
  },
  {
   "cell_type": "code",
   "execution_count": 35,
   "metadata": {},
   "outputs": [],
   "source": [
    "#creates function that categorizes each pitch as an actual strike or actual ball based on the zone\n",
    "def actual_strike(df):\n",
    "    if df['zone'] > 10:\n",
    "        return 'B'\n",
    "    else:\n",
    "        return 'S'"
   ]
  },
  {
   "cell_type": "code",
   "execution_count": 36,
   "metadata": {
    "scrolled": true
   },
   "outputs": [],
   "source": [
    "#applies function to create a new variable correct_type\n",
    "df['correct_type'] = df.apply(actual_strike,axis=1)"
   ]
  },
  {
   "cell_type": "code",
   "execution_count": 37,
   "metadata": {},
   "outputs": [],
   "source": [
    "#merges dfs such that another delta run expectancy is added\n",
    "#one is based on what actually happened, another is based on the change in run expectancy if the call was correct\n",
    "df_merged = df.merge(df_grouped,left_on=['on_base','outs_when_up','count','correct_type'],right_on=['on_base','outs_when_up','count','type'])"
   ]
  },
  {
   "cell_type": "code",
   "execution_count": 38,
   "metadata": {},
   "outputs": [],
   "source": [
    "#creates new variable that subtracts changes in run expectancy to get the swing effect of a missed call\n",
    "df_merged['missed_call_delta_run_exp'] = df_merged['delta_run_exp_x'] - df_merged['delta_run_exp_y']"
   ]
  },
  {
   "cell_type": "code",
   "execution_count": 39,
   "metadata": {},
   "outputs": [
    {
     "data": {
      "text/plain": [
       "-188.21299999999997"
      ]
     },
     "execution_count": 39,
     "metadata": {},
     "output_type": "execute_result"
    }
   ],
   "source": [
    "#sum the variable to get total net change in run expectancy from missed calls\n",
    "df_merged['missed_call_delta_run_exp'].sum()"
   ]
  },
  {
   "cell_type": "code",
   "execution_count": 40,
   "metadata": {},
   "outputs": [],
   "source": [
    "#creates new df that only includes missed calls\n",
    "df_mlb = df_merged[df_merged['missed_call_delta_run_exp']!=0].groupby(by=['player_name','correct_type']).count().reset_index().iloc[0:,0:3]"
   ]
  },
  {
   "cell_type": "code",
   "execution_count": 42,
   "metadata": {},
   "outputs": [],
   "source": [
    "#pivots df\n",
    "df_mlb_pivoted = df_mlb.pivot_table('pitch_type', ['player_name'], 'correct_type')"
   ]
  },
  {
   "cell_type": "code",
   "execution_count": 43,
   "metadata": {},
   "outputs": [],
   "source": [
    "#resets index\n",
    "df_mlb_pivoted.reset_index(inplace=True)"
   ]
  },
  {
   "cell_type": "code",
   "execution_count": 45,
   "metadata": {},
   "outputs": [],
   "source": [
    "#fills missing values with 0\n",
    "df_mlb_pivoted.fillna(0,inplace=True)"
   ]
  },
  {
   "cell_type": "code",
   "execution_count": 46,
   "metadata": {
    "scrolled": true
   },
   "outputs": [],
   "source": [
    "#merges two tables to have missed calls and all calls on each batter\n",
    "df_missed_and_total = df_mlb_pivoted.merge(df_all_calls,left_on='player_name',right_on='player_name')"
   ]
  },
  {
   "cell_type": "code",
   "execution_count": 47,
   "metadata": {
    "scrolled": true
   },
   "outputs": [],
   "source": [
    "#fills missing values with 0\n",
    "df_missed_and_total.fillna(0,inplace=True)"
   ]
  },
  {
   "cell_type": "code",
   "execution_count": 49,
   "metadata": {},
   "outputs": [],
   "source": [
    "#creates df that has player name and total net change in run expectancy for missed balls and missed strikes\n",
    "df_runs = df_merged.groupby(by=['player_name','correct_type'])['missed_call_delta_run_exp'].sum().to_frame().reset_index().pivot_table('missed_call_delta_run_exp','player_name','correct_type').reset_index()"
   ]
  },
  {
   "cell_type": "code",
   "execution_count": 50,
   "metadata": {},
   "outputs": [],
   "source": [
    "#renames columns\n",
    "df_runs.rename(columns={'B':'missed_call_dre_B','S':'missed_call_dre_S'},inplace=True)"
   ]
  },
  {
   "cell_type": "code",
   "execution_count": 52,
   "metadata": {},
   "outputs": [],
   "source": [
    "#merges two tables to have missed calls, all calls, and net change in run expectancy for missed balls and strikes\n",
    "df_missed_and_total_plus_runs = df_missed_and_total.merge(df_runs,left_on='player_name',right_on='player_name')"
   ]
  },
  {
   "cell_type": "code",
   "execution_count": 54,
   "metadata": {},
   "outputs": [],
   "source": [
    "#creates subset df just of player name and team\n",
    "df_batter_team = df[['player_name','batter_team']]"
   ]
  },
  {
   "cell_type": "code",
   "execution_count": 55,
   "metadata": {},
   "outputs": [],
   "source": [
    "#drops duplicates\n",
    "df_batter_team = df_batter_team.drop_duplicates()"
   ]
  },
  {
   "cell_type": "code",
   "execution_count": 56,
   "metadata": {},
   "outputs": [],
   "source": [
    "#adds batter team to mlb pivoted df through merge\n",
    "df_mlb_pivoted = df_mlb_pivoted.merge(df_batter_team,how='left',left_on='player_name',right_on='player_name')"
   ]
  },
  {
   "cell_type": "code",
   "execution_count": 58,
   "metadata": {},
   "outputs": [],
   "source": [
    "#adds batter team to df missed and total plus runs through merge\n",
    "df_missed_and_total_plus_runs = df_missed_and_total_plus_runs.merge(df_batter_team,how='left',left_on='player_name',right_on='player_name')"
   ]
  },
  {
   "cell_type": "code",
   "execution_count": 60,
   "metadata": {},
   "outputs": [],
   "source": [
    "#saves mlb pivoted to csv\n",
    "df_mlb_pivoted.to_csv('mlb_calls_pivoted.csv')"
   ]
  },
  {
   "cell_type": "code",
   "execution_count": 61,
   "metadata": {},
   "outputs": [],
   "source": [
    "#saves df missed and total plus runs to csv\n",
    "df_missed_and_total_plus_runs.to_csv('mlb_missed_and_total_calls_plus_runs.csv')"
   ]
  }
 ],
 "metadata": {
  "kernelspec": {
   "display_name": "Python (learn-env)",
   "language": "python",
   "name": "learn-env"
  },
  "language_info": {
   "codemirror_mode": {
    "name": "ipython",
    "version": 3
   },
   "file_extension": ".py",
   "mimetype": "text/x-python",
   "name": "python",
   "nbconvert_exporter": "python",
   "pygments_lexer": "ipython3",
   "version": "3.8.5"
  }
 },
 "nbformat": 4,
 "nbformat_minor": 4
}
